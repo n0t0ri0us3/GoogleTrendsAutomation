{
 "cells": [
  {
   "cell_type": "code",
   "execution_count": 4,
   "id": "8b245ac6",
   "metadata": {},
   "outputs": [
    {
     "name": "stdout",
     "output_type": "stream",
     "text": [
      "Iteration 0 has been completed\n",
      "Iteration 1 has been completed\n"
     ]
    }
   ],
   "source": [
    "#GOOGLE TRENDS AUTOMATION\n",
    "\n",
    "from pytrends.request import TrendReq\n",
    "import pandas as pd\n",
    "import time\n",
    "\n",
    "keyword_df = pd.read_csv('keyword_list.csv')\n",
    "kw_list = keyword_df['keyword_list'].values.tolist()\n",
    "\n",
    "#Initialize pytrends, set search language to US English\n",
    "pytrends = TrendReq(hl='en-US', tz=360)\n",
    "\n",
    "#Google Trends search limit is 5 keywords at a time, thus we need to divide our keyword list to 5 groups\n",
    "#and iterate through them\n",
    "\n",
    "for i in range(int(len(kw_list)/5) + 1):\n",
    "    \n",
    "    #Build the payload by the keyword group we are in\n",
    "    pytrends.build_payload(kw_list[i*5: i*5 + 5], cat=0, timeframe='today 12-m', geo='US')\n",
    "\n",
    "    data = pytrends.interest_over_time()\n",
    "    data = data.reset_index()\n",
    "\n",
    "    import plotly.express as px\n",
    "\n",
    "    for j in range(5):\n",
    "        #In order to get rid of any index problems, we treat first key word a little differently\n",
    "        if i == 0:\n",
    "            fig = px.line(data, x='date', y=kw_list[i*4 + j], title='Search Interest Over Time')\n",
    "            fig.write_image('{0}.png'.format(kw_list[i*4 + j]))\n",
    "            #Our data will be in metropol level format thus our resolution is DMA. You can change it later\n",
    "            by_region = pytrends.interest_by_region(resolution='DMA', inc_low_vol=True, inc_geo_code=False)\n",
    "            by_region.to_excel('{0}.xlsx'.format(kw_list[i*4 + j]))\n",
    "            \n",
    "        else:\n",
    "            #Break if there are no more elements in our keyword list\n",
    "            if (i*4 + j +i) == len(kw_list):\n",
    "                break\n",
    "            else:\n",
    "                fig = px.line(data, x='date', y=kw_list[i*4 + j + i], title='Search Interest Over Time')\n",
    "                fig.write_image('{0}.png'.format(kw_list[i*4 + j + i]))\n",
    "                by_region = pytrends.interest_by_region(resolution='DMA', inc_low_vol=True, inc_geo_code=False)\n",
    "                by_region.to_excel('{0}.xlsx'.format(kw_list[i*4 + j + i]))\n",
    "    \n",
    "    print('Iteration {} has been completed'.format(i))\n",
    "    time.sleep(15)"
   ]
  },
  {
   "cell_type": "code",
   "execution_count": null,
   "id": "17be85ab",
   "metadata": {},
   "outputs": [],
   "source": []
  }
 ],
 "metadata": {
  "kernelspec": {
   "display_name": "Python 3 (ipykernel)",
   "language": "python",
   "name": "python3"
  },
  "language_info": {
   "codemirror_mode": {
    "name": "ipython",
    "version": 3
   },
   "file_extension": ".py",
   "mimetype": "text/x-python",
   "name": "python",
   "nbconvert_exporter": "python",
   "pygments_lexer": "ipython3",
   "version": "3.9.7"
  }
 },
 "nbformat": 4,
 "nbformat_minor": 5
}
